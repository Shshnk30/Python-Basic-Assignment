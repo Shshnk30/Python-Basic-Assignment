{
 "cells": [
  {
   "cell_type": "code",
   "execution_count": 1,
   "id": "150549a3-7374-4599-a6d3-aeb4be3a0027",
   "metadata": {},
   "outputs": [
    {
     "name": "stdout",
     "output_type": "stream",
     "text": [
      "Python\n",
      "Programming\n",
      "Pto rgamn\n",
      "gnimmargorP nohtyP\n"
     ]
    }
   ],
   "source": [
    "# Ans-1 String Slicing\n",
    "\n",
    "#These examples are for basic slicing operations:\n",
    "\n",
    "#text[0:6]: Extracts characters from index 0 to 5.\n",
    "#text[7:]: Extracts characters from index 7 to the end.\n",
    "#text[::2]: Extracts every second character.\n",
    "#text[::-1]: Reverses the string.\n",
    "\n",
    "text = \"Python Programming\"\n",
    "\n",
    "# Get a substring from index 0 to 5 (exclusive)\n",
    "substring1 = text[0:6]\n",
    "print(substring1)  # Output: \"Python\"\n",
    "\n",
    "# Get a substring from index 7 to the end\n",
    "substring2 = text[7:]\n",
    "print(substring2)  # Output: \"Programming\"\n",
    "\n",
    "# Get every second character\n",
    "substring3 = text[::2]\n",
    "print(substring3)  # Output: \"Pto rgamn\"\n",
    "\n",
    "# Reverse the string\n",
    "reversed_text = text[::-1]\n",
    "print(reversed_text)  # Output: \"gnimmargorP nohtyP\"\n"
   ]
  },
  {
   "cell_type": "code",
   "execution_count": 2,
   "id": "291178a5-332b-4992-bcdd-40d4fe88dae2",
   "metadata": {},
   "outputs": [
    {
     "name": "stdout",
     "output_type": "stream",
     "text": [
      "[10, 2, 3, 4]\n"
     ]
    }
   ],
   "source": [
    "#Ans-2\n",
    "\n",
    "#Key Features of Lists in Python\n",
    "#Mutable: Lists can be modified (elements can be changed, added, or removed).\n",
    "#Ordered: Elements retain their order.\n",
    "#Allows Duplicates: Can contain duplicate values.\n",
    "#Dynamic Size: Can grow or shrink as needed.\n",
    "#Supports Various Data Types: Can hold elements of different types.\n",
    "\n",
    "#Example\n",
    "\n",
    "my_list = [1, 2, 3]  # Initial list\n",
    "my_list.append(4)   # Add an element\n",
    "my_list[0] = 10     # Modify an element\n",
    "print(my_list)      # Output: [10, 2, 3, 4]\n"
   ]
  },
  {
   "cell_type": "code",
   "execution_count": 3,
   "id": "750031bb-2348-4b9e-aa7c-02adde1eb03f",
   "metadata": {},
   "outputs": [
    {
     "name": "stdout",
     "output_type": "stream",
     "text": [
      "20\n",
      "[10, 25, 30]\n",
      "[10, 30]\n",
      "10\n",
      "[30]\n",
      "[20, 10]\n"
     ]
    }
   ],
   "source": [
    "# Ans-3\n",
    "\n",
    "#Modifying list in python\n",
    "\n",
    "#Accessing Elements\n",
    "my_list = [10, 20, 30]\n",
    "print(my_list[1])  # Output: 20  # Access the second element\n",
    "\n",
    "#Modifying Elements\n",
    "my_list = [10, 20, 30]\n",
    "my_list[1] = 25\n",
    "print(my_list)  # Output: [10, 25, 30]  # Modify the second element\n",
    "\n",
    "#Deleting Elements\n",
    "my_list = [10, 20, 30]\n",
    "\n",
    "# Using del\n",
    "del my_list[1]\n",
    "print(my_list)  # Output: [10, 30]  # Delete the second element\n",
    "\n",
    "# Using pop\n",
    "removed_item = my_list.pop(0)\n",
    "print(removed_item)  # Output: 10  # Remove and return the first element\n",
    "print(my_list)       # Output: [30]\n",
    "\n",
    "# Using remove\n",
    "my_list = [10, 20, 10]\n",
    "my_list.remove(10)\n",
    "print(my_list)  # Output: [20, 10]  # Remove the first occurrence of 10\n",
    "\n"
   ]
  },
  {
   "cell_type": "code",
   "execution_count": 4,
   "id": "73721266-6e4f-4c9c-a6ac-96b42344aa61",
   "metadata": {},
   "outputs": [
    {
     "name": "stdout",
     "output_type": "stream",
     "text": [
      "2\n",
      "2\n",
      "[1, 20, 3]\n"
     ]
    }
   ],
   "source": [
    "#Ans-4\n",
    "\n",
    "#Comparision\n",
    "\n",
    "#Tuples: Immutable, fixed-size, faster for fixed collections.\n",
    "#Lists: Mutable, dynamic size, more flexible for changing data.\n",
    "\n",
    "# Tuple\n",
    "my_tuple = (1, 2, 3)\n",
    "# Access\n",
    "print(my_tuple[1])  # Output: 2\n",
    "# Modify (raises an error)\n",
    "# my_tuple[1] = 20  # TypeError\n",
    "\n",
    "# List\n",
    "my_list = [1, 2, 3]\n",
    "# Access\n",
    "print(my_list[1])  # Output: 2\n",
    "# Modify\n",
    "my_list[1] = 20\n",
    "print(my_list)  # Output: [1, 20, 3]\n",
    "\n",
    "#Tuples are immutable and cannot be changed after creation, while lists are mutable and can be modified."
   ]
  },
  {
   "cell_type": "code",
   "execution_count": 5,
   "id": "d89f8a5f-84fc-4a6e-93a8-9b6da156df80",
   "metadata": {},
   "outputs": [
    {
     "name": "stdout",
     "output_type": "stream",
     "text": [
      "Original set: {1, 2, 3, 4}\n",
      "After adding 5: {1, 2, 3, 4, 5}\n",
      "After removing 2: {1, 3, 4, 5}\n",
      "After updating with duplicates: {1, 3, 4, 5, 6}\n",
      "Union: {1, 3, 4, 5, 6, 7}\n",
      "Intersection: {3, 4}\n",
      "Difference: {1, 5, 6}\n",
      "Symmetric Difference: {1, 5, 6, 7}\n"
     ]
    }
   ],
   "source": [
    "#Ans- 5\n",
    "\n",
    "# Create a set\n",
    "my_set = {1, 2, 3, 4}\n",
    "\n",
    "# Print the set\n",
    "print(\"Original set:\", my_set)  # Output: {1, 2, 3, 4}\n",
    "\n",
    "# Add an element\n",
    "my_set.add(5)\n",
    "print(\"After adding 5:\", my_set)  # Output: {1, 2, 3, 4, 5}\n",
    "\n",
    "# Remove an element\n",
    "my_set.remove(2)\n",
    "print(\"After removing 2:\", my_set)  # Output: {1, 3, 4, 5}\n",
    "\n",
    "# Handle duplicates (duplicates are ignored)\n",
    "my_set.update([1, 6, 6])\n",
    "print(\"After updating with duplicates:\", my_set)  # Output: {1, 3, 4, 5, 6}\n",
    "\n",
    "# Set operations\n",
    "set2 = {3, 4, 7}\n",
    "print(\"Union:\", my_set | set2)  # Output: {1, 3, 4, 5, 6, 7}\n",
    "print(\"Intersection:\", my_set & set2)  # Output: {3, 4}\n",
    "print(\"Difference:\", my_set - set2)  # Output: {1, 5, 6}\n",
    "print(\"Symmetric Difference:\", my_set ^ set2)  # Output: {1, 5, 6, 7}\n",
    "\n",
    "\n",
    "#Summary:\n",
    "\n",
    "#Creation: Define a set.\n",
    "#Adding/Removing: Modify the set.\n",
    "#Handling Duplicates: Duplicates are ignored.\n",
    "#Operations: Perform set operations like union, intersection, and difference.\n",
    "\n"
   ]
  },
  {
   "cell_type": "code",
   "execution_count": 6,
   "id": "90e43079-8ec1-4cfa-8e2a-56be9612980e",
   "metadata": {},
   "outputs": [
    {
     "name": "stdout",
     "output_type": "stream",
     "text": [
      "Latitude: 40.7128\n",
      "Longitude: -74.006\n",
      "{(40.7128, -74.006): 'New York'}\n",
      "{101, 103, 104, 105}\n",
      "True\n",
      "{2, 3}\n"
     ]
    }
   ],
   "source": [
    "#Ans-6\n",
    "\n",
    "#Use Case: Fixed collections and immutable data.\n",
    "\n",
    "# Tuple for geographic coordinates\n",
    "coordinates = (40.7128, -74.0060)  # New York City coordinates\n",
    "\n",
    "# Accessing tuple elements\n",
    "latitude, longitude = coordinates\n",
    "print(\"Latitude:\", latitude)    # Output: Latitude: 40.7128\n",
    "print(\"Longitude:\", longitude)  # Output: Longitude: -74.0060\n",
    "\n",
    "# Tuple as dictionary key\n",
    "location_map = {coordinates: \"New York\"}\n",
    "print(location_map)  # Output: {(40.7128, -74.0060): 'New York'}\n",
    "\n",
    "# Use Case: Unique collections, membership testing, and set operations.\n",
    "\n",
    "# Set of unique user IDs\n",
    "user_ids = {101, 102, 103, 104}\n",
    "\n",
    "# Adding and removing elements\n",
    "user_ids.add(105)\n",
    "user_ids.remove(102)\n",
    "print(user_ids)  # Output: {101, 103, 104, 105}\n",
    "\n",
    "# Membership test\n",
    "print(103 in user_ids)  # Output: True\n",
    "\n",
    "# Set operations\n",
    "set_a = {1, 2, 3}\n",
    "set_b = {2, 3, 4}\n",
    "common_elements = set_a & set_b\n",
    "print(common_elements)  # Output: {2, 3}\n",
    "\n",
    "\n",
    "#Tuples: Use for fixed, immutable data and dictionary keys.\n",
    "#Sets: Use for collections of unique items and set operations.\n",
    "\n"
   ]
  },
  {
   "cell_type": "code",
   "execution_count": 7,
   "id": "5247e085-3539-49a0-b839-08a14cf117b2",
   "metadata": {},
   "outputs": [
    {
     "name": "stdout",
     "output_type": "stream",
     "text": [
      "After adding: {'name': 'Alice', 'age': 25, 'city': 'New York'}\n",
      "After modifying: {'name': 'Alice', 'age': 26, 'city': 'New York'}\n",
      "After deleting: {'name': 'Alice', 'age': 26}\n"
     ]
    }
   ],
   "source": [
    "#Ans-7\n",
    "\n",
    "# Create a dictionary\n",
    "my_dict = {'name': 'Alice', 'age': 25}\n",
    "\n",
    "# Add a new item\n",
    "my_dict['city'] = 'New York'\n",
    "print(\"After adding:\", my_dict)  # Output: {'name': 'Alice', 'age': 25, 'city': 'New York'}\n",
    "\n",
    "# Modify an existing item\n",
    "my_dict['age'] = 26\n",
    "print(\"After modifying:\", my_dict)  # Output: {'name': 'Alice', 'age': 26, 'city': 'New York'}\n",
    "\n",
    "# Delete an item\n",
    "del my_dict['city']\n",
    "print(\"After deleting:\", my_dict)  # Output: {'name': 'Alice', 'age': 26}\n",
    "\n",
    "\n",
    "\n",
    "#Add: my_dict['city'] = 'New York'\n",
    "#Modify: my_dict['age'] = 26\n",
    "#Delete: del my_dict['city']"
   ]
  },
  {
   "cell_type": "code",
   "execution_count": null,
   "id": "6b4c4f1d-15ae-4eef-89fb-77549a2e8f8f",
   "metadata": {},
   "outputs": [],
   "source": [
    "#Ans-8\n",
    "\n",
    "# Valid: Using immutable keys\n",
    "my_dict = {\n",
    "    'name': 'Alice',          # String key (immutable)\n",
    "    (1, 2): 'point'           # Tuple key (immutable)\n",
    "}\n",
    "print(my_dict['name'])      # Output: Alice\n",
    "print(my_dict[(1, 2)])      # Output: point\n",
    "\n",
    "# Invalid: Using mutable keys (raises an error)\n",
    "try:\n",
    "    my_dict_invalid = {\n",
    "        [1, 2]: 'list_key'   # List key (mutable)\n",
    "    }\n",
    "except TypeError as e:\n",
    "    print(\"Error:\", e)      # Output: Error: unhashable type: 'list'\n",
    "\n",
    "    \n",
    "\n",
    "\n",
    "#Immutable Keys: Strings and tuples can be used as keys.\n",
    "#Mutable Keys: Lists cannot be used as keys due to their mutability."
   ]
  }
 ],
 "metadata": {
  "kernelspec": {
   "display_name": "Python 3 (ipykernel)",
   "language": "python",
   "name": "python3"
  },
  "language_info": {
   "codemirror_mode": {
    "name": "ipython",
    "version": 3
   },
   "file_extension": ".py",
   "mimetype": "text/x-python",
   "name": "python",
   "nbconvert_exporter": "python",
   "pygments_lexer": "ipython3",
   "version": "3.10.8"
  }
 },
 "nbformat": 4,
 "nbformat_minor": 5
}
